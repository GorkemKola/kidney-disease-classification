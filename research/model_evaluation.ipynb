{
 "cells": [
  {
   "cell_type": "code",
   "execution_count": 1,
   "metadata": {},
   "outputs": [
    {
     "data": {
      "text/plain": [
       "'/home/grkmkola/Desktop/Projects/mlops-proje/kidney-disease-classification/research'"
      ]
     },
     "execution_count": 1,
     "metadata": {},
     "output_type": "execute_result"
    }
   ],
   "source": [
    "%pwd"
   ]
  },
  {
   "cell_type": "code",
   "execution_count": 2,
   "metadata": {},
   "outputs": [
    {
     "name": "stdout",
     "output_type": "stream",
     "text": [
      "/home/grkmkola/Desktop/Projects/mlops-proje/kidney-disease-classification\n"
     ]
    },
    {
     "name": "stderr",
     "output_type": "stream",
     "text": [
      "/home/grkmkola/miniconda3/envs/kidney/lib/python3.12/site-packages/IPython/core/magics/osm.py:417: UserWarning: This is now an optional IPython functionality, setting dhist requires you to install the `pickleshare` library.\n",
      "  self.shell.db['dhist'] = compress_dhist(dhist)[-100:]\n"
     ]
    },
    {
     "data": {
      "text/plain": [
       "'/home/grkmkola/Desktop/Projects/mlops-proje/kidney-disease-classification'"
      ]
     },
     "execution_count": 2,
     "metadata": {},
     "output_type": "execute_result"
    }
   ],
   "source": [
    "%cd ..\n",
    "%pwd"
   ]
  },
  {
   "cell_type": "code",
   "execution_count": 5,
   "metadata": {},
   "outputs": [],
   "source": [
    "from dataclasses import dataclass\n",
    "from pathlib import Path\n",
    "\n",
    "@dataclass\n",
    "class EvaluationConfig:\n",
    "    path_of_model: Path\n",
    "    training_data: Path\n",
    "    params: dict\n",
    "    mlflow_uri: str\n",
    "    params_image_size: list\n",
    "    params_batch_size: int\n",
    "    params_random_state: int"
   ]
  },
  {
   "cell_type": "code",
   "execution_count": 6,
   "metadata": {},
   "outputs": [],
   "source": [
    "from cnnClassifier.constants import *\n",
    "from cnnClassifier.utils import read_yaml, create_directories, logger\n",
    "from config import REPO_NAME, AUTHOR_USER_NAME"
   ]
  },
  {
   "cell_type": "code",
   "execution_count": 11,
   "metadata": {},
   "outputs": [],
   "source": [
    "class ConfigurationManager:\n",
    "    def __init__(\n",
    "            self,\n",
    "            config_filepath = CONFIG_FILE_PATH,\n",
    "            params_filepath = PARAMS_FILE_PATH,\n",
    "    ) -> None:\n",
    "        self.config = read_yaml(config_filepath)\n",
    "        self.params = read_yaml(params_filepath)\n",
    "        create_directories([\n",
    "            self.config.artifacts_root,\n",
    "            self.config.data_ingestion.root_dir,\n",
    "            self.config.data_ingestion.unzip_dir,\n",
    "        ])\n",
    "\n",
    "    def get_evaluation_config(self) -> EvaluationConfig:\n",
    "        evaluation_config = EvaluationConfig(\n",
    "            path_of_model=Path(self.config.training.best_model_path),\n",
    "            training_data=Path(self.config.data_ingestion.extracted_data),\n",
    "            mlflow_uri=self.config.evaluation.mlflow_uri,\n",
    "            params=self.params,\n",
    "            params_image_size=self.params.IMAGE_SIZE,\n",
    "            params_batch_size=self.params.BATCH_SIZE,\n",
    "            params_random_state=self.params.RANDOM_STATE\n",
    "        )\n",
    "        return evaluation_config"
   ]
  },
  {
   "cell_type": "code",
   "execution_count": 12,
   "metadata": {},
   "outputs": [],
   "source": [
    "import torch\n",
    "from torch.utils.data import DataLoader, random_split\n",
    "from torchvision import transforms, datasets\n",
    "import mlflow\n",
    "import json\n",
    "from pathlib import Path\n",
    "from sklearn.metrics import precision_recall_fscore_support\n",
    "from tqdm import tqdm\n",
    "import dagshub"
   ]
  },
  {
   "cell_type": "code",
   "execution_count": 19,
   "metadata": {},
   "outputs": [],
   "source": [
    "class Evaluation:\n",
    "    def __init__(self, config):\n",
    "        self.config = config\n",
    "        self.device = torch.device('cuda' if torch.cuda.is_available() else 'cpu')\n",
    "\n",
    "    def train_valid_test_loader(self):\n",
    "        basic_transform = transforms.Compose([\n",
    "            transforms.Resize(self.config.params_image_size[:-1]),\n",
    "            transforms.ToTensor(),\n",
    "            transforms.Normalize(mean=[0.485, 0.456, 0.406], std=[0.229, 0.224, 0.225])\n",
    "        ])\n",
    "\n",
    "        full_dataset = datasets.ImageFolder(self.config.training_data, transform=basic_transform)\n",
    "\n",
    "        total_size = len(full_dataset)\n",
    "        train_size = int(0.7 * total_size)  # 70% for training\n",
    "        valid_size = int(0.15 * total_size)  # 15% for validation\n",
    "        test_size = total_size - train_size - valid_size  # 15% for testing\n",
    "\n",
    "        # Ensure reproducibility\n",
    "        generator = torch.Generator().manual_seed(self.config.params_random_state)\n",
    "\n",
    "        *_, test_dataset = random_split(full_dataset, [train_size, valid_size, test_size], generator=generator)\n",
    "\n",
    "        test_dataset.dataset.transform = basic_transform\n",
    "\n",
    "        self.test_loader = DataLoader(test_dataset, batch_size=self.config.params_batch_size, shuffle=False, num_workers=4)\n",
    "\n",
    "\n",
    "    @staticmethod\n",
    "    def load_model(path: Path) -> torch.nn.Module:\n",
    "        model = torch.load(path)\n",
    "        model.eval()  # Set the model to evaluation mode\n",
    "        return model\n",
    "\n",
    "    def evaluation(self):\n",
    "        self.model = self.load_model(self.config.path_of_model)\n",
    "        self.train_valid_test_loader()\n",
    "        self.loss, self.accuracy, self.precision, self.recall, self.f1 = self.evaluate_model()\n",
    "        self.save_score()\n",
    "        self.log_into_mlflow()\n",
    "\n",
    "    def evaluate_model(self):\n",
    "        self.model.to(self.device)\n",
    "        criterion = torch.nn.CrossEntropyLoss()\n",
    "        total_loss = 0.0\n",
    "        correct = 0\n",
    "        total = 0\n",
    "        all_labels = []\n",
    "        all_predictions = []\n",
    "\n",
    "        # Use tqdm to create a progress bar for evaluation\n",
    "        valid_pbar = tqdm(self.test_loader, desc='Evaluating', unit='batch')\n",
    "        \n",
    "        with torch.no_grad():\n",
    "            for inputs, labels in valid_pbar:\n",
    "                inputs, labels = inputs.to(self.device), labels.to(self.device)\n",
    "                outputs = self.model(inputs)\n",
    "                loss = criterion(outputs, labels)\n",
    "                total_loss += loss.item() * inputs.size(0)\n",
    "                \n",
    "                _, predicted = torch.max(outputs.data, 1)\n",
    "                all_labels.extend(labels.cpu().numpy())\n",
    "                all_predictions.extend(predicted.cpu().numpy())\n",
    "\n",
    "                total += labels.size(0)\n",
    "                correct += (predicted == labels).sum().item()\n",
    "\n",
    "                valid_pbar.set_postfix({'loss': f'{loss.item():.4f}'})\n",
    "\n",
    "        loss = total_loss / len(self.test_loader.dataset)\n",
    "        accuracy = correct / total\n",
    "\n",
    "        # Calculate precision, recall, and F1 score\n",
    "        precision, recall, f1, _ = precision_recall_fscore_support(\n",
    "            all_labels, all_predictions, average='weighted'\n",
    "        )\n",
    "\n",
    "        return loss, accuracy, precision, recall, f1\n",
    "\n",
    "    def save_score(self):\n",
    "        scores = {\n",
    "            \"loss\": self.loss,\n",
    "            \"accuracy\": self.accuracy,\n",
    "            \"precision\": self.precision,\n",
    "            \"recall\": self.recall,\n",
    "            \"f1_score\": self.f1\n",
    "        }\n",
    "        with open(Path(\"scores.json\"), 'w') as f:\n",
    "            json.dump(scores, f, indent=4)\n",
    "\n",
    "    def log_into_mlflow(self):\n",
    "        dagshub.init(repo_owner=AUTHOR_USER_NAME, repo_name=REPO_NAME, mlflow=True)\n",
    "\n",
    "        with mlflow.start_run():\n",
    "\n",
    "            mlflow.log_params(self.config.params)\n",
    "            mlflow.log_metrics(\n",
    "                {\n",
    "                    \"loss\": self.loss,\n",
    "                    \"accuracy\": self.accuracy,\n",
    "                    \"precision\": self.precision,\n",
    "                    \"recall\": self.recall,\n",
    "                    \"f1_score\": self.f1\n",
    "                }\n",
    "            )\n",
    "            # Log model directly if model registry is not applicable\n",
    "            mlflow.pytorch.log_model(self.model, \"model\", registered_model_name=\"ResNet50\")"
   ]
  },
  {
   "cell_type": "code",
   "execution_count": 20,
   "metadata": {},
   "outputs": [
    {
     "name": "stdout",
     "output_type": "stream",
     "text": [
      "[2024-07-23 17:34:23,996: INFO: utils: yaml file config/config.yaml loaded successfully:]\n",
      "[2024-07-23 17:34:24,015: INFO: utils: yaml file params.yaml loaded successfully:]\n",
      "[2024-07-23 17:34:24,020: INFO: utils: created directory at: artifacts:]\n",
      "[2024-07-23 17:34:24,021: INFO: utils: created directory at: artifacts/data_ingestion:]\n",
      "[2024-07-23 17:34:24,022: INFO: utils: created directory at: artifacts/data_ingestion:]\n"
     ]
    },
    {
     "name": "stderr",
     "output_type": "stream",
     "text": [
      "Evaluating: 100%|██████████| 117/117 [00:11<00:00, 10.08batch/s, loss=0.5347]\n"
     ]
    },
    {
     "data": {
      "text/html": [
       "<pre style=\"white-space:pre;overflow-x:auto;line-height:normal;font-family:Menlo,'DejaVu Sans Mono',consolas,'Courier New',monospace\">Initialized MLflow to track repo <span style=\"color: #008000; text-decoration-color: #008000\">\"GorkemKola/kidney-disease-classification\"</span>\n",
       "</pre>\n"
      ],
      "text/plain": [
       "Initialized MLflow to track repo \u001b[32m\"GorkemKola/kidney-disease-classification\"\u001b[0m\n"
      ]
     },
     "metadata": {},
     "output_type": "display_data"
    },
    {
     "name": "stdout",
     "output_type": "stream",
     "text": [
      "[2024-07-23 17:34:37,251: INFO: helpers: Initialized MLflow to track repo \"GorkemKola/kidney-disease-classification\":]\n"
     ]
    },
    {
     "data": {
      "text/html": [
       "<pre style=\"white-space:pre;overflow-x:auto;line-height:normal;font-family:Menlo,'DejaVu Sans Mono',consolas,'Courier New',monospace\">Repository GorkemKola/kidney-disease-classification initialized!\n",
       "</pre>\n"
      ],
      "text/plain": [
       "Repository GorkemKola/kidney-disease-classification initialized!\n"
      ]
     },
     "metadata": {},
     "output_type": "display_data"
    },
    {
     "name": "stdout",
     "output_type": "stream",
     "text": [
      "[2024-07-23 17:34:37,257: INFO: helpers: Repository GorkemKola/kidney-disease-classification initialized!:]\n",
      "[2024-07-23 17:36:37,481: WARNING: connectionpool: Retrying (Retry(total=4, connect=5, read=4, redirect=5, status=5)) after connection broken by 'ReadTimeoutError(\"HTTPSConnectionPool(host='dagshub.com', port=443): Read timed out. (read timeout=120)\")': /GorkemKola/kidney-disease-classification.mlflow/api/2.0/mlflow/runs/create:]\n"
     ]
    },
    {
     "name": "stderr",
     "output_type": "stream",
     "text": [
      "Successfully registered model 'ResNet50'.\n",
      "2024/07/23 17:36:56 INFO mlflow.store.model_registry.abstract_store: Waiting up to 300 seconds for model version to finish creation. Model name: ResNet50, version 1\n",
      "Created version '1' of model 'ResNet50'.\n"
     ]
    }
   ],
   "source": [
    "try:\n",
    "    config = ConfigurationManager()\n",
    "    eval_config = config.get_evaluation_config()\n",
    "    evaluation = Evaluation(eval_config)\n",
    "    evaluation.evaluation()\n",
    "\n",
    "except Exception as e:\n",
    "   raise e"
   ]
  },
  {
   "cell_type": "code",
   "execution_count": null,
   "metadata": {},
   "outputs": [],
   "source": []
  },
  {
   "cell_type": "code",
   "execution_count": null,
   "metadata": {},
   "outputs": [],
   "source": []
  },
  {
   "cell_type": "code",
   "execution_count": null,
   "metadata": {},
   "outputs": [],
   "source": []
  }
 ],
 "metadata": {
  "kernelspec": {
   "display_name": "kidney",
   "language": "python",
   "name": "python3"
  },
  "language_info": {
   "codemirror_mode": {
    "name": "ipython",
    "version": 3
   },
   "file_extension": ".py",
   "mimetype": "text/x-python",
   "name": "python",
   "nbconvert_exporter": "python",
   "pygments_lexer": "ipython3",
   "version": "3.12.4"
  }
 },
 "nbformat": 4,
 "nbformat_minor": 2
}
