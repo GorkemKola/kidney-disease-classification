{
 "cells": [
  {
   "cell_type": "code",
   "execution_count": 3,
   "metadata": {},
   "outputs": [
    {
     "name": "stdout",
     "output_type": "stream",
     "text": [
      "Dictionary:\n",
      "{'key1': 'val1', 'key2': 'val2'}\n",
      "Values\n",
      "val1 val2\n",
      "ConfigBox\n",
      "{'key1': 'val1', 'key2': 'val2'}\n",
      "Values\n",
      "val1 val2\n"
     ]
    }
   ],
   "source": [
    "### Sample Config Box Utilization\n",
    "\n",
    "from box import ConfigBox\n",
    "\n",
    "d = {'key1': 'val1', 'key2': 'val2'}\n",
    "\n",
    "print('Dictionary:')\n",
    "\n",
    "print(d)\n",
    "\n",
    "print('Values')\n",
    "\n",
    "print(d['key1'], d['key2'])\n",
    "\n",
    "d = ConfigBox(d)\n",
    "\n",
    "print('ConfigBox:')\n",
    "\n",
    "print(d)\n",
    "\n",
    "print('Values')\n",
    "print(d.key1, d.key2)"
   ]
  },
  {
   "cell_type": "code",
   "execution_count": null,
   "metadata": {},
   "outputs": [],
   "source": []
  }
 ],
 "metadata": {
  "kernelspec": {
   "display_name": "kidney",
   "language": "python",
   "name": "python3"
  },
  "language_info": {
   "codemirror_mode": {
    "name": "ipython",
    "version": 3
   },
   "file_extension": ".py",
   "mimetype": "text/x-python",
   "name": "python",
   "nbconvert_exporter": "python",
   "pygments_lexer": "ipython3",
   "version": "3.11.9"
  }
 },
 "nbformat": 4,
 "nbformat_minor": 2
}
