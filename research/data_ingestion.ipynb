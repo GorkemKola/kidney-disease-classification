{
 "cells": [
  {
   "cell_type": "code",
   "execution_count": 8,
   "metadata": {},
   "outputs": [],
   "source": [
    "import gdown"
   ]
  },
  {
   "cell_type": "code",
   "execution_count": 10,
   "metadata": {},
   "outputs": [
    {
     "name": "stdout",
     "output_type": "stream",
     "text": [
      "/home/grkmkola/Desktop/Projects/mlops-proje/kidney-disease-classification\n"
     ]
    },
    {
     "name": "stderr",
     "output_type": "stream",
     "text": [
      "/home/grkmkola/miniconda3/envs/kidney/lib/python3.11/site-packages/IPython/core/magics/osm.py:417: UserWarning: This is now an optional IPython functionality, setting dhist requires you to install the `pickleshare` library.\n",
      "  self.shell.db['dhist'] = compress_dhist(dhist)[-100:]\n"
     ]
    },
    {
     "data": {
      "text/plain": [
       "'/home/grkmkola/Desktop/Projects/mlops-proje/kidney-disease-classification'"
      ]
     },
     "execution_count": 10,
     "metadata": {},
     "output_type": "execute_result"
    }
   ],
   "source": [
    "%cd ..\n",
    "%pwd"
   ]
  },
  {
   "cell_type": "code",
   "execution_count": 25,
   "metadata": {},
   "outputs": [],
   "source": [
    "from dataclasses import dataclass\n",
    "from pathlib import Path\n",
    "\n",
    "@dataclass\n",
    "class DataIngestionConfig:\n",
    "    root_dir: Path\n",
    "    source_url: str\n",
    "    local_data_file: Path\n",
    "    unzip_dir: Path"
   ]
  },
  {
   "cell_type": "code",
   "execution_count": 26,
   "metadata": {},
   "outputs": [],
   "source": [
    "from cnnClassifier.constants import *\n",
    "from cnnClassifier.utils import read_yaml, create_directories"
   ]
  },
  {
   "cell_type": "code",
   "execution_count": 27,
   "metadata": {},
   "outputs": [],
   "source": [
    "class ConfigurationManager:\n",
    "    def __init__(\n",
    "            self,\n",
    "            config_filepath = CONFIG_FILE_PATH,\n",
    "            params_filepath = PARAMS_FILE_PATH,\n",
    "    ) -> None:\n",
    "        self.config = read_yaml(config_filepath)\n",
    "        self.params = read_yaml(params_filepath)\n",
    "        create_directories([\n",
    "            self.config.artifacts_root,\n",
    "            self.config.data_ingestion.root_dir,\n",
    "            self.config.data_ingestion.unzip_dir,\n",
    "        ])\n",
    "\n",
    "    def get_data_ingestion_config(self) -> DataIngestionConfig:\n",
    "        config = self.config.data_ingestion\n",
    "\n",
    "        data_ingestion_config = DataIngestionConfig(\n",
    "            root_dir=config.root_dir,\n",
    "            source_url=config.source_url,\n",
    "            local_data_file=config.local_data_file,\n",
    "            unzip_dir=config.unzip_dir\n",
    "        )\n",
    "\n",
    "        return data_ingestion_config "
   ]
  },
  {
   "cell_type": "code",
   "execution_count": 28,
   "metadata": {},
   "outputs": [
    {
     "name": "stdout",
     "output_type": "stream",
     "text": [
      "[2024-07-22 10:04:08,065: INFO: utils: yaml file config/config.yaml loaded successfully:]\n",
      "[2024-07-22 10:04:08,067: INFO: utils: yaml file params.yaml loaded successfully:]\n",
      "[2024-07-22 10:04:08,068: INFO: utils: created directory at: artifacts:]\n",
      "[2024-07-22 10:04:08,069: INFO: utils: created directory at: artifacts/data_ingestion:]\n",
      "[2024-07-22 10:04:08,069: INFO: utils: created directory at: artifacts/data_ingestion:]\n"
     ]
    },
    {
     "data": {
      "text/plain": [
       "ConfigBox({'artifacts_root': 'artifacts', 'data_ingestion': {'root_dir': 'artifacts/data_ingestion', 'source_url': 'https://drive.google.com/file/d/1THszi4x1hnmqTwTrPuNDYpMS3SmkIhRe/view?usp=sharing', 'local_data_file': 'artifacts/data_ingestion/data.zip', 'unzip_dir': 'artifacts/data_ingestion'}})"
      ]
     },
     "execution_count": 28,
     "metadata": {},
     "output_type": "execute_result"
    }
   ],
   "source": [
    "ConfigurationManager().config"
   ]
  },
  {
   "cell_type": "code",
   "execution_count": 34,
   "metadata": {},
   "outputs": [],
   "source": [
    "import zipfile\n",
    "import gdown\n",
    "from cnnClassifier.utils import logger, get_size\n",
    "import os"
   ]
  },
  {
   "cell_type": "code",
   "execution_count": 39,
   "metadata": {},
   "outputs": [],
   "source": [
    "class DataIngestion:\n",
    "    def __init__(\n",
    "            self,\n",
    "            config: DataIngestionConfig\n",
    "        ) -> None:\n",
    "        self.config = config\n",
    "\n",
    "    def download_file(self):\n",
    "        '''\n",
    "        Description\n",
    "            fetch data from the url\n",
    "        '''\n",
    "\n",
    "        \n",
    "        try:\n",
    "            dataset_url = self.config.source_url\n",
    "            local_data_file = self.config.local_data_file\n",
    "\n",
    "            if os.path.exists(local_data_file):\n",
    "                logger.info(f'{local_data_file} is already exists')\n",
    "                return\n",
    "            logger.info(f'Downloading data from {dataset_url} into file {local_data_file}')\n",
    "            file_id = dataset_url.split('/')[-2]\n",
    "            prefix = 'https://drive.google.com/uc?/export=download&id='\n",
    "            gdown.download(prefix+file_id, local_data_file)\n",
    "            logger.info(f'Downloaded data from {dataset_url} into file {local_data_file}')\n",
    "        except Exception as e:\n",
    "            raise e\n",
    "        \n",
    "    def extract_zip_file(self):\n",
    "        '''\n",
    "        Description\n",
    "            extracts the zip file\n",
    "        '''\n",
    "\n",
    "        unzip_path = self.config.unzip_dir\n",
    "\n",
    "        with zipfile.ZipFile(self.config.local_data_file, 'r') as zip_ref:\n",
    "            zip_ref.extractall(unzip_path)\n",
    "        \n",
    "        \n",
    "        logger.info(f'{self.config.local_data_file} is successfully extracted to {unzip_path}')"
   ]
  },
  {
   "cell_type": "code",
   "execution_count": 40,
   "metadata": {},
   "outputs": [
    {
     "name": "stdout",
     "output_type": "stream",
     "text": [
      "[2024-07-22 10:12:15,227: INFO: utils: yaml file config/config.yaml loaded successfully:]\n",
      "[2024-07-22 10:12:15,228: INFO: utils: yaml file params.yaml loaded successfully:]\n",
      "[2024-07-22 10:12:15,229: INFO: utils: created directory at: artifacts:]\n",
      "[2024-07-22 10:12:15,230: INFO: utils: created directory at: artifacts/data_ingestion:]\n",
      "[2024-07-22 10:12:15,231: INFO: utils: created directory at: artifacts/data_ingestion:]\n",
      "[2024-07-22 10:12:15,231: INFO: 2769369459: artifacts/data_ingestion/data.zip is already exists:]\n",
      "[2024-07-22 10:12:26,391: INFO: 2769369459: artifacts/data_ingestion/data.zip is successfully extracted to artifacts/data_ingestion:]\n"
     ]
    }
   ],
   "source": [
    "try:\n",
    "    config = ConfigurationManager()\n",
    "    data_ingestion_config = config.get_data_ingestion_config()\n",
    "    data_ingestion = DataIngestion(config=data_ingestion_config)\n",
    "    data_ingestion.download_file()\n",
    "    data_ingestion.extract_zip_file()\n",
    "except Exception as e:\n",
    "    raise e"
   ]
  },
  {
   "cell_type": "code",
   "execution_count": 4,
   "metadata": {},
   "outputs": [],
   "source": []
  },
  {
   "cell_type": "code",
   "execution_count": null,
   "metadata": {},
   "outputs": [],
   "source": []
  }
 ],
 "metadata": {
  "kernelspec": {
   "display_name": "kidney",
   "language": "python",
   "name": "python3"
  },
  "language_info": {
   "codemirror_mode": {
    "name": "ipython",
    "version": 3
   },
   "file_extension": ".py",
   "mimetype": "text/x-python",
   "name": "python",
   "nbconvert_exporter": "python",
   "pygments_lexer": "ipython3",
   "version": "3.11.9"
  }
 },
 "nbformat": 4,
 "nbformat_minor": 2
}
